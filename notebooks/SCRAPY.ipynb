{
 "cells": [
  {
   "cell_type": "markdown",
   "metadata": {},
   "source": [
    "## Scraping for Data"
   ]
  },
  {
   "cell_type": "code",
   "execution_count": 28,
   "metadata": {},
   "outputs": [],
   "source": [
    "# Make HTTP requests\n",
    "import requests\n",
    "# Scrape data from an HTML document\n",
    "from bs4 import BeautifulSoup\n",
    "# I/O\n",
    "import os\n",
    "# Search and manipulate strings\n",
    "import re\n",
    "\n",
    "import pandas as pd\n",
    "\n",
    "import time\n",
    "\n",
    "from secrets import GENIUS_API_TOKEN"
   ]
  },
  {
   "cell_type": "code",
   "execution_count": 29,
   "metadata": {},
   "outputs": [],
   "source": [
    "# Get artist object from Genius API\n",
    "def request_artist_info(artist_name, page):\n",
    "    base_url = 'https://api.genius.com'\n",
    "    headers = {'Authorization': 'Bearer ' + GENIUS_API_TOKEN}\n",
    "    search_url = base_url + '/search?per_page=10&page=' + str(page)\n",
    "    data = {'q': artist_name}\n",
    "    response = requests.get(search_url, data=data, headers=headers)\n",
    "    return response\n",
    "# Get Genius.com song url's from artist object\n",
    "def request_song_url(artist_name, song_cap):\n",
    "    page = 1\n",
    "    songs = []\n",
    "    \n",
    "    while True:\n",
    "        response = request_artist_info(artist_name, page)\n",
    "        json = response.json()\n",
    "        # Collect up to song_cap song objects from artist\n",
    "        song_info = []\n",
    "        for hit in json['response']['hits']:\n",
    "            if artist_name.lower() in hit['result']['primary_artist']['name'].lower():\n",
    "                song_info.append(hit)\n",
    "    \n",
    "        # Collect song URL's from song objects\n",
    "        for song in song_info:\n",
    "            if (len(songs) < song_cap):\n",
    "                url = song['result']['url']\n",
    "                songs.append(url)\n",
    "            \n",
    "        if (len(songs) == song_cap):\n",
    "            break\n",
    "        else:\n",
    "            page += 1\n",
    "        \n",
    "    print('Found {} songs by {}'.format(len(songs), artist_name))\n",
    "    return songs"
   ]
  },
  {
   "cell_type": "code",
   "execution_count": 30,
   "metadata": {},
   "outputs": [],
   "source": [
    "# Scrape lyrics from a Genius.com song URL\n",
    "def scrape_song_lyrics(url):\n",
    "    page = requests.get(url)\n",
    "    html = BeautifulSoup(page.text, 'html.parser')\n",
    "    lyrics = html.find('div', class_='lyrics').get_text()\n",
    "    #remove identifiers like chorus, verse, etc\n",
    "    lyrics = re.sub(r'[\\(\\[].*?[\\)\\]]', '', lyrics)\n",
    "    #remove empty lines\n",
    "    lyrics = os.linesep.join([s for s in lyrics.splitlines() if s])         \n",
    "    return lyrics"
   ]
  },
  {
   "cell_type": "code",
   "execution_count": 31,
   "metadata": {
    "scrolled": true
   },
   "outputs": [],
   "source": [
    "def write_lyrics_to_orig(artist_name, song_count):\n",
    "    urls = request_song_url(artist_name, song_count)\n",
    "    count = 0\n",
    "    lyrics_list = []\n",
    "    song_url = []\n",
    "    df = pd.DataFrame()\n",
    "    for url in urls:\n",
    "        lyrics = scrape_song_lyrics(url)\n",
    "        song_url.append(url)\n",
    "        lyrics_list.append(lyrics)\n",
    "        count += 1\n",
    "        time.sleep(1.5)\n",
    "    print(f'{count} {artist_name} songs written')\n",
    "    d = {'lyrics': lyrics_list, 'url': song_url}\n",
    "    df = pd.DataFrame(d, columns=['lyrics', 'url'])\n",
    "    df['artist'] = artist_name\n",
    "    return df.reset_index(drop=True)"
   ]
  },
  {
   "cell_type": "code",
   "execution_count": 1,
   "metadata": {},
   "outputs": [],
   "source": [
    "def write_lyrics_to_file(artist_name, song_count):\n",
    "    urls = request_song_url(artist_name, song_count)\n",
    "    count = 0\n",
    "    lyrics_list = []\n",
    "    song_url = []\n",
    "    df = pd.DataFrame()\n",
    "    for url in urls:\n",
    "        lyrics = scrape_song_lyrics(url)\n",
    "        song_url.append(url)\n",
    "        lyrics_list.append(lyrics)\n",
    "        count += 1\n",
    "        time.sleep(1.5)\n",
    "    print(f'{count} {artist_name} songs written')\n",
    "    d = {'lyrics': lyrics_list, 'url': song_url}\n",
    "    df = pd.DataFrame(d, columns=['lyrics', 'url'])\n",
    "    df['artist'] = artist_name\n",
    "    df.to_csv('../data/country_lyrics.csv', mode='a', header=False, index=False)"
   ]
  },
  {
   "cell_type": "markdown",
   "metadata": {},
   "source": [
    "#### Scraping for Data on as many Country artists I can think of."
   ]
  },
  {
   "cell_type": "code",
   "execution_count": 6,
   "metadata": {
    "scrolled": true
   },
   "outputs": [
    {
     "name": "stdout",
     "output_type": "stream",
     "text": [
      "Found 60 songs by Luke Combs\n",
      "60 Luke Combs songs written\n"
     ]
    }
   ],
   "source": [
    "luke_combs = write_lyrics_to_orig('Luke Combs', 60)"
   ]
  },
  {
   "cell_type": "code",
   "execution_count": null,
   "metadata": {},
   "outputs": [],
   "source": [
    "luke_combs.to_csv('../data/country_lyrics.csv', index=False)"
   ]
  },
  {
   "cell_type": "code",
   "execution_count": 8,
   "metadata": {
    "scrolled": true
   },
   "outputs": [
    {
     "name": "stdout",
     "output_type": "stream",
     "text": [
      "Found 46 songs by Chris Stapleton\n",
      "46 Chris Stapleton songs written\n"
     ]
    }
   ],
   "source": [
    "write_lyrics_to_file('Chris Stapleton', 46)"
   ]
  },
  {
   "cell_type": "code",
   "execution_count": 9,
   "metadata": {
    "scrolled": true
   },
   "outputs": [
    {
     "name": "stdout",
     "output_type": "stream",
     "text": [
      "Found 74 songs by Lee Brice\n",
      "74 Lee Brice songs written\n"
     ]
    }
   ],
   "source": [
    "write_lyrics_to_file('Lee Brice', 74)"
   ]
  },
  {
   "cell_type": "code",
   "execution_count": 10,
   "metadata": {
    "scrolled": true
   },
   "outputs": [
    {
     "name": "stdout",
     "output_type": "stream",
     "text": [
      "Found 75 songs by Thomas Rhett\n",
      "75 Thomas Rhett songs written\n"
     ]
    }
   ],
   "source": [
    "write_lyrics_to_file('Thomas Rhett', 75)"
   ]
  },
  {
   "cell_type": "code",
   "execution_count": 11,
   "metadata": {
    "scrolled": true
   },
   "outputs": [
    {
     "name": "stdout",
     "output_type": "stream",
     "text": [
      "Found 33 songs by Carly Pearce\n",
      "33 Carly Pearce songs written\n"
     ]
    }
   ],
   "source": [
    "write_lyrics_to_file('Carly Pearce', 33)"
   ]
  },
  {
   "cell_type": "code",
   "execution_count": 12,
   "metadata": {
    "scrolled": true
   },
   "outputs": [
    {
     "name": "stdout",
     "output_type": "stream",
     "text": [
      "Found 75 songs by Eric Church\n",
      "75 Eric Church songs written\n"
     ]
    }
   ],
   "source": [
    "write_lyrics_to_file('Eric Church', 75)"
   ]
  },
  {
   "cell_type": "code",
   "execution_count": 13,
   "metadata": {
    "scrolled": true
   },
   "outputs": [
    {
     "name": "stdout",
     "output_type": "stream",
     "text": [
      "Found 100 songs by Dierks Bentley\n",
      "100 Dierks Bentley songs written\n"
     ]
    }
   ],
   "source": [
    "write_lyrics_to_file('Dierks Bentley', 100)"
   ]
  },
  {
   "cell_type": "code",
   "execution_count": 14,
   "metadata": {
    "scrolled": true
   },
   "outputs": [
    {
     "name": "stdout",
     "output_type": "stream",
     "text": [
      "Found 100 songs by Luke Bryan\n",
      "100 Luke Bryan songs written\n"
     ]
    }
   ],
   "source": [
    "write_lyrics_to_file('Luke Bryan', 100)"
   ]
  },
  {
   "cell_type": "code",
   "execution_count": 15,
   "metadata": {
    "scrolled": true
   },
   "outputs": [
    {
     "name": "stdout",
     "output_type": "stream",
     "text": [
      "Found 100 songs by Florida Georgia Line\n",
      "100 Florida Georgia Line songs written\n"
     ]
    }
   ],
   "source": [
    "write_lyrics_to_file('Florida Georgia Line', 100)"
   ]
  },
  {
   "cell_type": "code",
   "execution_count": 16,
   "metadata": {
    "scrolled": true
   },
   "outputs": [
    {
     "name": "stdout",
     "output_type": "stream",
     "text": [
      "Found 20 songs by Jordan Davis\n",
      "20 Jordan Davis songs written\n"
     ]
    }
   ],
   "source": [
    "write_lyrics_to_file('Jordan Davis', 20)"
   ]
  },
  {
   "cell_type": "code",
   "execution_count": 17,
   "metadata": {
    "scrolled": true
   },
   "outputs": [
    {
     "name": "stdout",
     "output_type": "stream",
     "text": [
      "Found 150 songs by Blake Shelton\n",
      "150 Blake Shelton songs written\n"
     ]
    }
   ],
   "source": [
    "write_lyrics_to_file('Blake Shelton', 150)"
   ]
  },
  {
   "cell_type": "code",
   "execution_count": 18,
   "metadata": {
    "scrolled": true
   },
   "outputs": [
    {
     "name": "stdout",
     "output_type": "stream",
     "text": [
      "Found 50 songs by Brett Young\n",
      "50 Brett Young songs written\n"
     ]
    }
   ],
   "source": [
    "write_lyrics_to_file('Brett Young', 50)"
   ]
  },
  {
   "cell_type": "code",
   "execution_count": 19,
   "metadata": {
    "scrolled": true
   },
   "outputs": [
    {
     "name": "stdout",
     "output_type": "stream",
     "text": [
      "Found 30 songs by Dan + Shay\n",
      "30 Dan + Shay songs written\n"
     ]
    }
   ],
   "source": [
    "write_lyrics_to_file('Dan + Shay', 30)"
   ]
  },
  {
   "cell_type": "code",
   "execution_count": 20,
   "metadata": {
    "scrolled": true
   },
   "outputs": [
    {
     "name": "stdout",
     "output_type": "stream",
     "text": [
      "Found 25 songs by Mitchell Tenpenny\n",
      "25 Mitchell Tenpenny songs written\n"
     ]
    }
   ],
   "source": [
    "write_lyrics_to_file('Mitchell Tenpenny', 25)"
   ]
  },
  {
   "cell_type": "code",
   "execution_count": 21,
   "metadata": {
    "scrolled": true
   },
   "outputs": [
    {
     "name": "stdout",
     "output_type": "stream",
     "text": [
      "Found 50 songs by Morgan Wallen\n",
      "50 Morgan Wallen songs written\n"
     ]
    }
   ],
   "source": [
    "write_lyrics_to_file('Morgan Wallen', 50)"
   ]
  },
  {
   "cell_type": "code",
   "execution_count": 22,
   "metadata": {
    "scrolled": true
   },
   "outputs": [
    {
     "name": "stdout",
     "output_type": "stream",
     "text": [
      "Found 40 songs by Jon Pardi\n",
      "40 Jon Pardi songs written\n"
     ]
    }
   ],
   "source": [
    "write_lyrics_to_file('Jon Pardi', 40)"
   ]
  },
  {
   "cell_type": "code",
   "execution_count": 23,
   "metadata": {
    "scrolled": true
   },
   "outputs": [
    {
     "name": "stdout",
     "output_type": "stream",
     "text": [
      "Found 50 songs by Kacey Musgraves\n",
      "50 Kacey Musgraves songs written\n"
     ]
    }
   ],
   "source": [
    "write_lyrics_to_file('Kacey Musgraves', 50)"
   ]
  },
  {
   "cell_type": "code",
   "execution_count": 24,
   "metadata": {
    "scrolled": true
   },
   "outputs": [
    {
     "name": "stdout",
     "output_type": "stream",
     "text": [
      "Found 75 songs by Jason Aldean\n",
      "75 Jason Aldean songs written\n"
     ]
    }
   ],
   "source": [
    "write_lyrics_to_file('Jason Aldean', 75)"
   ]
  },
  {
   "cell_type": "code",
   "execution_count": 25,
   "metadata": {
    "scrolled": true
   },
   "outputs": [
    {
     "name": "stdout",
     "output_type": "stream",
     "text": [
      "Found 50 songs by Kane Brown\n",
      "50 Kane Brown songs written\n"
     ]
    }
   ],
   "source": [
    "write_lyrics_to_file('Kane Brown', 50)"
   ]
  },
  {
   "cell_type": "code",
   "execution_count": 26,
   "metadata": {
    "scrolled": true
   },
   "outputs": [
    {
     "name": "stdout",
     "output_type": "stream",
     "text": [
      "Found 30 songs by Maren Morris\n",
      "30 Maren Morris songs written\n"
     ]
    }
   ],
   "source": [
    "write_lyrics_to_file('Maren Morris', 30)"
   ]
  },
  {
   "cell_type": "code",
   "execution_count": 27,
   "metadata": {
    "scrolled": true
   },
   "outputs": [
    {
     "name": "stdout",
     "output_type": "stream",
     "text": [
      "Found 37 songs by Sam Hunt\n",
      "37 Sam Hunt songs written\n"
     ]
    }
   ],
   "source": [
    "write_lyrics_to_file('Sam Hunt', 37)"
   ]
  },
  {
   "cell_type": "code",
   "execution_count": 28,
   "metadata": {
    "scrolled": true
   },
   "outputs": [
    {
     "name": "stdout",
     "output_type": "stream",
     "text": [
      "Found 35 songs by Old Dominion\n",
      "35 Old Dominion songs written\n"
     ]
    }
   ],
   "source": [
    "write_lyrics_to_file('Old Dominion', 35)"
   ]
  },
  {
   "cell_type": "code",
   "execution_count": 29,
   "metadata": {
    "scrolled": true
   },
   "outputs": [
    {
     "name": "stdout",
     "output_type": "stream",
     "text": [
      "Found 100 songs by Shania Twain\n",
      "100 Shania Twain songs written\n"
     ]
    }
   ],
   "source": [
    "write_lyrics_to_file('Shania Twain', 100)"
   ]
  },
  {
   "cell_type": "code",
   "execution_count": 30,
   "metadata": {
    "scrolled": true
   },
   "outputs": [
    {
     "name": "stdout",
     "output_type": "stream",
     "text": [
      "Found 85 songs by Carrie Underwood\n",
      "85 Carrie Underwood songs written\n"
     ]
    }
   ],
   "source": [
    "write_lyrics_to_file('Carrie Underwood', 85)"
   ]
  },
  {
   "cell_type": "code",
   "execution_count": 31,
   "metadata": {
    "scrolled": true
   },
   "outputs": [
    {
     "name": "stdout",
     "output_type": "stream",
     "text": [
      "Found 75 songs by The Chicks\n",
      "75 The Chicks songs written\n"
     ]
    }
   ],
   "source": [
    "write_lyrics_to_file('The Chicks', 75)"
   ]
  },
  {
   "cell_type": "code",
   "execution_count": 32,
   "metadata": {
    "scrolled": true
   },
   "outputs": [
    {
     "name": "stdout",
     "output_type": "stream",
     "text": [
      "Found 100 songs by Tim McGraw\n",
      "100 Tim McGraw songs written\n"
     ]
    }
   ],
   "source": [
    "write_lyrics_to_file('Tim McGraw', 100)"
   ]
  },
  {
   "cell_type": "code",
   "execution_count": 33,
   "metadata": {
    "scrolled": true
   },
   "outputs": [
    {
     "name": "stdout",
     "output_type": "stream",
     "text": [
      "Found 100 songs by Keith Urban\n",
      "100 Keith Urban songs written\n"
     ]
    }
   ],
   "source": [
    "write_lyrics_to_file('Keith Urban', 100)"
   ]
  },
  {
   "cell_type": "code",
   "execution_count": 34,
   "metadata": {
    "scrolled": true
   },
   "outputs": [
    {
     "name": "stdout",
     "output_type": "stream",
     "text": [
      "Found 80 songs by Miranda Lambert\n",
      "80 Miranda Lambert songs written\n"
     ]
    }
   ],
   "source": [
    "write_lyrics_to_file('Miranda Lambert', 80)"
   ]
  },
  {
   "cell_type": "code",
   "execution_count": 35,
   "metadata": {
    "scrolled": true
   },
   "outputs": [
    {
     "name": "stdout",
     "output_type": "stream",
     "text": [
      "Found 100 songs by Garth Brooks\n",
      "100 Garth Brooks songs written\n"
     ]
    }
   ],
   "source": [
    "write_lyrics_to_file('Garth Brooks', 100)"
   ]
  },
  {
   "cell_type": "code",
   "execution_count": 36,
   "metadata": {
    "scrolled": true
   },
   "outputs": [
    {
     "name": "stdout",
     "output_type": "stream",
     "text": [
      "Found 100 songs by Johnny Cash\n",
      "100 Johnny Cash songs written\n"
     ]
    }
   ],
   "source": [
    "write_lyrics_to_file('Johnny Cash', 100)"
   ]
  },
  {
   "cell_type": "code",
   "execution_count": 37,
   "metadata": {
    "scrolled": true
   },
   "outputs": [
    {
     "name": "stdout",
     "output_type": "stream",
     "text": [
      "Found 100 songs by Faith Hill\n",
      "100 Faith Hill songs written\n"
     ]
    }
   ],
   "source": [
    "write_lyrics_to_file('Faith Hill', 100)"
   ]
  },
  {
   "cell_type": "code",
   "execution_count": 38,
   "metadata": {
    "scrolled": true
   },
   "outputs": [
    {
     "name": "stdout",
     "output_type": "stream",
     "text": [
      "Found 150 songs by Dolly Parton\n",
      "150 Dolly Parton songs written\n"
     ]
    }
   ],
   "source": [
    "write_lyrics_to_file('Dolly Parton', 150)"
   ]
  },
  {
   "cell_type": "code",
   "execution_count": 39,
   "metadata": {
    "scrolled": true
   },
   "outputs": [
    {
     "name": "stdout",
     "output_type": "stream",
     "text": [
      "Found 100 songs by Brad Paisley\n",
      "100 Brad Paisley songs written\n"
     ]
    }
   ],
   "source": [
    "write_lyrics_to_file('Brad Paisley', 100)"
   ]
  },
  {
   "cell_type": "code",
   "execution_count": 40,
   "metadata": {
    "scrolled": true
   },
   "outputs": [
    {
     "name": "stdout",
     "output_type": "stream",
     "text": [
      "Found 200 songs by Taylor Swift\n",
      "200 Taylor Swift songs written\n"
     ]
    }
   ],
   "source": [
    "write_lyrics_to_file('Taylor Swift', 200)"
   ]
  },
  {
   "cell_type": "code",
   "execution_count": 41,
   "metadata": {
    "scrolled": true
   },
   "outputs": [
    {
     "name": "stdout",
     "output_type": "stream",
     "text": [
      "Found 100 songs by Rascal Flatts\n",
      "100 Rascal Flatts songs written\n"
     ]
    }
   ],
   "source": [
    "write_lyrics_to_file('Rascal Flatts', 100)"
   ]
  },
  {
   "cell_type": "code",
   "execution_count": 42,
   "metadata": {
    "scrolled": true
   },
   "outputs": [
    {
     "name": "stdout",
     "output_type": "stream",
     "text": [
      "Found 30 songs by Logan Mize\n",
      "30 Logan Mize songs written\n"
     ]
    }
   ],
   "source": [
    "write_lyrics_to_file('Logan Mize', 30)"
   ]
  },
  {
   "cell_type": "code",
   "execution_count": 43,
   "metadata": {
    "scrolled": true
   },
   "outputs": [
    {
     "name": "stdout",
     "output_type": "stream",
     "text": [
      "Found 25 songs by Chris Lane\n",
      "25 Chris Lane songs written\n"
     ]
    }
   ],
   "source": [
    "write_lyrics_to_file('Chris Lane', 25)"
   ]
  },
  {
   "cell_type": "code",
   "execution_count": 44,
   "metadata": {
    "scrolled": true
   },
   "outputs": [
    {
     "name": "stdout",
     "output_type": "stream",
     "text": [
      "Found 18 songs by Jimmie Allen\n",
      "18 Jimmie Allen songs written\n"
     ]
    }
   ],
   "source": [
    "write_lyrics_to_file('Jimmie Allen', 18)"
   ]
  },
  {
   "cell_type": "code",
   "execution_count": 45,
   "metadata": {
    "scrolled": true
   },
   "outputs": [
    {
     "name": "stdout",
     "output_type": "stream",
     "text": [
      "Found 15 songs by Filmore\n",
      "15 Filmore songs written\n"
     ]
    }
   ],
   "source": [
    "write_lyrics_to_file('Filmore', 15)"
   ]
  },
  {
   "cell_type": "code",
   "execution_count": 46,
   "metadata": {
    "scrolled": true
   },
   "outputs": [
    {
     "name": "stdout",
     "output_type": "stream",
     "text": [
      "Found 100 songs by Billy Ray Cyrus\n",
      "100 Billy Ray Cyrus songs written\n"
     ]
    }
   ],
   "source": [
    "write_lyrics_to_file('Billy Ray Cyrus', 100)"
   ]
  },
  {
   "cell_type": "code",
   "execution_count": 47,
   "metadata": {
    "scrolled": true
   },
   "outputs": [
    {
     "name": "stdout",
     "output_type": "stream",
     "text": [
      "Found 30 songs by Cole Swindell\n",
      "30 Cole Swindell songs written\n"
     ]
    }
   ],
   "source": [
    "write_lyrics_to_file('Cole Swindell', 30)"
   ]
  },
  {
   "cell_type": "code",
   "execution_count": 48,
   "metadata": {},
   "outputs": [
    {
     "name": "stdout",
     "output_type": "stream",
     "text": [
      "Found 25 songs by The Band Perry\n",
      "25 The Band Perry songs written\n"
     ]
    }
   ],
   "source": [
    "write_lyrics_to_file('The Band Perry', 25)"
   ]
  },
  {
   "cell_type": "code",
   "execution_count": 49,
   "metadata": {},
   "outputs": [
    {
     "name": "stdout",
     "output_type": "stream",
     "text": [
      "Found 50 songs by Lady A\n",
      "50 Lady A songs written\n"
     ]
    }
   ],
   "source": [
    "write_lyrics_to_file('Lady A', 50)"
   ]
  },
  {
   "cell_type": "code",
   "execution_count": 50,
   "metadata": {},
   "outputs": [
    {
     "name": "stdout",
     "output_type": "stream",
     "text": [
      "Found 200 songs by George Strait\n",
      "200 George Strait songs written\n"
     ]
    }
   ],
   "source": [
    "write_lyrics_to_file('George Strait', 200)"
   ]
  },
  {
   "cell_type": "code",
   "execution_count": 51,
   "metadata": {},
   "outputs": [
    {
     "name": "stdout",
     "output_type": "stream",
     "text": [
      "Found 25 songs by Ashley McBryde\n",
      "25 Ashley McBryde songs written\n"
     ]
    }
   ],
   "source": [
    "write_lyrics_to_file('Ashley McBryde', 25)"
   ]
  },
  {
   "cell_type": "code",
   "execution_count": 52,
   "metadata": {},
   "outputs": [
    {
     "name": "stdout",
     "output_type": "stream",
     "text": [
      "Found 65 songs by Little Big Town\n",
      "65 Little Big Town songs written\n"
     ]
    }
   ],
   "source": [
    "write_lyrics_to_file('Little Big Town', 65)"
   ]
  },
  {
   "cell_type": "code",
   "execution_count": 53,
   "metadata": {},
   "outputs": [
    {
     "name": "stdout",
     "output_type": "stream",
     "text": [
      "Found 65 songs by Sugarland\n",
      "65 Sugarland songs written\n"
     ]
    }
   ],
   "source": [
    "write_lyrics_to_file('Sugarland', 65)"
   ]
  },
  {
   "cell_type": "code",
   "execution_count": 54,
   "metadata": {},
   "outputs": [
    {
     "name": "stdout",
     "output_type": "stream",
     "text": [
      "Found 200 songs by Willie Nelson\n",
      "200 Willie Nelson songs written\n"
     ]
    }
   ],
   "source": [
    "write_lyrics_to_file('Willie Nelson', 200)"
   ]
  },
  {
   "cell_type": "code",
   "execution_count": 55,
   "metadata": {},
   "outputs": [
    {
     "name": "stdout",
     "output_type": "stream",
     "text": [
      "Found 200 songs by Kenny Chesney\n",
      "200 Kenny Chesney songs written\n"
     ]
    }
   ],
   "source": [
    "write_lyrics_to_file('Kenny Chesney', 200)"
   ]
  },
  {
   "cell_type": "code",
   "execution_count": 56,
   "metadata": {},
   "outputs": [
    {
     "name": "stdout",
     "output_type": "stream",
     "text": [
      "Found 200 songs by Alan Jackson\n",
      "200 Alan Jackson songs written\n"
     ]
    }
   ],
   "source": [
    "write_lyrics_to_file('Alan Jackson', 200)"
   ]
  },
  {
   "cell_type": "code",
   "execution_count": 57,
   "metadata": {},
   "outputs": [
    {
     "name": "stdout",
     "output_type": "stream",
     "text": [
      "Found 100 songs by Joe Nichols\n",
      "100 Joe Nichols songs written\n"
     ]
    }
   ],
   "source": [
    "write_lyrics_to_file('Joe Nichols', 100)"
   ]
  },
  {
   "cell_type": "code",
   "execution_count": 58,
   "metadata": {},
   "outputs": [
    {
     "name": "stdout",
     "output_type": "stream",
     "text": [
      "Found 100 songs by Toby Keith\n",
      "100 Toby Keith songs written\n"
     ]
    }
   ],
   "source": [
    "write_lyrics_to_file('Toby Keith', 100)"
   ]
  },
  {
   "cell_type": "code",
   "execution_count": 59,
   "metadata": {},
   "outputs": [
    {
     "name": "stdout",
     "output_type": "stream",
     "text": [
      "Found 100 songs by Patty Loveless\n",
      "100 Patty Loveless songs written\n"
     ]
    }
   ],
   "source": [
    "write_lyrics_to_file('Patty Loveless', 100)"
   ]
  },
  {
   "cell_type": "code",
   "execution_count": 60,
   "metadata": {},
   "outputs": [
    {
     "name": "stdout",
     "output_type": "stream",
     "text": [
      "Found 100 songs by Vince Gill\n",
      "100 Vince Gill songs written\n"
     ]
    }
   ],
   "source": [
    "write_lyrics_to_file('Vince Gill', 100)"
   ]
  },
  {
   "cell_type": "code",
   "execution_count": 61,
   "metadata": {},
   "outputs": [
    {
     "name": "stdout",
     "output_type": "stream",
     "text": [
      "Found 200 songs by Reba McEntire\n",
      "200 Reba McEntire songs written\n"
     ]
    }
   ],
   "source": [
    "write_lyrics_to_file('Reba McEntire', 200)"
   ]
  },
  {
   "cell_type": "code",
   "execution_count": 62,
   "metadata": {},
   "outputs": [
    {
     "name": "stdout",
     "output_type": "stream",
     "text": [
      "Found 100 songs by Clint Black\n",
      "100 Clint Black songs written\n"
     ]
    }
   ],
   "source": [
    "write_lyrics_to_file('Clint Black', 100)"
   ]
  },
  {
   "cell_type": "code",
   "execution_count": 63,
   "metadata": {},
   "outputs": [
    {
     "name": "stdout",
     "output_type": "stream",
     "text": [
      "Found 30 songs by Gabby Barrett\n",
      "30 Gabby Barrett songs written\n"
     ]
    }
   ],
   "source": [
    "write_lyrics_to_file('Gabby Barrett', 30)"
   ]
  },
  {
   "cell_type": "code",
   "execution_count": 64,
   "metadata": {},
   "outputs": [
    {
     "name": "stdout",
     "output_type": "stream",
     "text": [
      "Found 30 songs by Tyler Childers\n",
      "30 Tyler Childers songs written\n"
     ]
    }
   ],
   "source": [
    "write_lyrics_to_file('Tyler Childers', 30)"
   ]
  },
  {
   "cell_type": "code",
   "execution_count": 65,
   "metadata": {},
   "outputs": [
    {
     "name": "stdout",
     "output_type": "stream",
     "text": [
      "Found 60 songs by HARDY\n",
      "60 HARDY songs written\n"
     ]
    }
   ],
   "source": [
    "write_lyrics_to_file('HARDY', 60)"
   ]
  },
  {
   "cell_type": "code",
   "execution_count": 69,
   "metadata": {},
   "outputs": [
    {
     "name": "stdout",
     "output_type": "stream",
     "text": [
      "Found 25 songs by Russell Dickerson\n",
      "25 Russell Dickerson songs written\n"
     ]
    }
   ],
   "source": [
    "write_lyrics_to_file('Russell Dickerson', 25)"
   ]
  },
  {
   "cell_type": "code",
   "execution_count": 70,
   "metadata": {},
   "outputs": [
    {
     "name": "stdout",
     "output_type": "stream",
     "text": [
      "Found 100 songs by Midland\n",
      "100 Midland songs written\n"
     ]
    }
   ],
   "source": [
    "write_lyrics_to_file('Midland', 100)"
   ]
  },
  {
   "cell_type": "code",
   "execution_count": 71,
   "metadata": {},
   "outputs": [
    {
     "name": "stdout",
     "output_type": "stream",
     "text": [
      "Found 60 songs by Rodney Atkins\n",
      "60 Rodney Atkins songs written\n"
     ]
    }
   ],
   "source": [
    "write_lyrics_to_file('Rodney Atkins', 60)"
   ]
  },
  {
   "cell_type": "code",
   "execution_count": 73,
   "metadata": {},
   "outputs": [
    {
     "name": "stdout",
     "output_type": "stream",
     "text": [
      "Found 60 songs by Billy Currington\n",
      "60 Billy Currington songs written\n"
     ]
    }
   ],
   "source": [
    "write_lyrics_to_file('Billy Currington', 60)"
   ]
  },
  {
   "cell_type": "code",
   "execution_count": 74,
   "metadata": {},
   "outputs": [
    {
     "name": "stdout",
     "output_type": "stream",
     "text": [
      "Found 60 songs by Scotty McCreery\n",
      "60 Scotty McCreery songs written\n"
     ]
    }
   ],
   "source": [
    "write_lyrics_to_file('Scotty McCreery', 60)"
   ]
  },
  {
   "cell_type": "code",
   "execution_count": 33,
   "metadata": {},
   "outputs": [
    {
     "name": "stdout",
     "output_type": "stream",
     "text": [
      "Found 60 songs by Chase Rice\n",
      "60 Chase Rice songs written\n"
     ]
    }
   ],
   "source": [
    "write_lyrics_to_file('Chase Rice', 60)"
   ]
  },
  {
   "cell_type": "code",
   "execution_count": 34,
   "metadata": {},
   "outputs": [
    {
     "name": "stdout",
     "output_type": "stream",
     "text": [
      "Found 50 songs by Dustin Lynch\n",
      "50 Dustin Lynch songs written\n"
     ]
    }
   ],
   "source": [
    "write_lyrics_to_file('Dustin Lynch', 50)"
   ]
  },
  {
   "cell_type": "code",
   "execution_count": 35,
   "metadata": {},
   "outputs": [
    {
     "name": "stdout",
     "output_type": "stream",
     "text": [
      "Found 100 songs by Chris Young\n",
      "100 Chris Young songs written\n"
     ]
    }
   ],
   "source": [
    "write_lyrics_to_file('Chris Young', 100)"
   ]
  },
  {
   "cell_type": "code",
   "execution_count": 36,
   "metadata": {},
   "outputs": [
    {
     "name": "stdout",
     "output_type": "stream",
     "text": [
      "Found 70 songs by Jake Owen\n",
      "70 Jake Owen songs written\n"
     ]
    }
   ],
   "source": [
    "write_lyrics_to_file('Jake Owen', 70)"
   ]
  },
  {
   "cell_type": "code",
   "execution_count": 37,
   "metadata": {},
   "outputs": [
    {
     "name": "stdout",
     "output_type": "stream",
     "text": [
      "Found 11 songs by Morgan Evans\n",
      "11 Morgan Evans songs written\n"
     ]
    }
   ],
   "source": [
    "write_lyrics_to_file('Morgan Evans', 11)"
   ]
  },
  {
   "cell_type": "code",
   "execution_count": 38,
   "metadata": {},
   "outputs": [
    {
     "name": "stdout",
     "output_type": "stream",
     "text": [
      "Found 85 songs by Eli Young Band\n",
      "85 Eli Young Band songs written\n"
     ]
    }
   ],
   "source": [
    "write_lyrics_to_file('Eli Young Band', 85)"
   ]
  },
  {
   "cell_type": "code",
   "execution_count": 39,
   "metadata": {},
   "outputs": [
    {
     "name": "stdout",
     "output_type": "stream",
     "text": [
      "Found 11 songs by Tyler Rich\n",
      "11 Tyler Rich songs written\n"
     ]
    }
   ],
   "source": [
    "write_lyrics_to_file('Tyler Rich', 11)"
   ]
  },
  {
   "cell_type": "code",
   "execution_count": 41,
   "metadata": {},
   "outputs": [
    {
     "name": "stdout",
     "output_type": "stream",
     "text": [
      "Found 120 songs by Hank Williams\n",
      "120 Hank Williams songs written\n"
     ]
    }
   ],
   "source": [
    "write_lyrics_to_file('Hank Williams', 120)"
   ]
  },
  {
   "cell_type": "code",
   "execution_count": 42,
   "metadata": {},
   "outputs": [
    {
     "name": "stdout",
     "output_type": "stream",
     "text": [
      "Found 100 songs by Granger Smith\n",
      "100 Granger Smith songs written\n"
     ]
    }
   ],
   "source": [
    "write_lyrics_to_file('Granger Smith', 100)"
   ]
  },
  {
   "cell_type": "code",
   "execution_count": 43,
   "metadata": {},
   "outputs": [
    {
     "name": "stdout",
     "output_type": "stream",
     "text": [
      "Found 60 songs by Josh Turner\n",
      "60 Josh Turner songs written\n"
     ]
    }
   ],
   "source": [
    "write_lyrics_to_file('Josh Turner', 60)"
   ]
  },
  {
   "cell_type": "code",
   "execution_count": null,
   "metadata": {},
   "outputs": [],
   "source": []
  }
 ],
 "metadata": {
  "kernelspec": {
   "display_name": "Python 3",
   "language": "python",
   "name": "python3"
  },
  "language_info": {
   "codemirror_mode": {
    "name": "ipython",
    "version": 3
   },
   "file_extension": ".py",
   "mimetype": "text/x-python",
   "name": "python",
   "nbconvert_exporter": "python",
   "pygments_lexer": "ipython3",
   "version": "3.8.5"
  }
 },
 "nbformat": 4,
 "nbformat_minor": 4
}
