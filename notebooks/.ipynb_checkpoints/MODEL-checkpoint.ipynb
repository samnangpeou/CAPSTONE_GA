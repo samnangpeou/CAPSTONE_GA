{
 "cells": [
  {
   "cell_type": "markdown",
   "metadata": {},
   "source": [
    "# Modeling"
   ]
  },
  {
   "cell_type": "code",
   "execution_count": 2,
   "metadata": {},
   "outputs": [],
   "source": [
    "# imports\n",
    "import pandas as pd\n",
    "import numpy as np\n",
    "import tensorflow as tf\n",
    "import keras\n",
    "import os\n",
    "import time\n",
    "import matplotlib.pyplot as plt\n",
    "from tensorflow.keras.layers.experimental import preprocessing\n",
    "plt.style.use('dark_background')"
   ]
  },
  {
   "cell_type": "code",
   "execution_count": 3,
   "metadata": {},
   "outputs": [],
   "source": [
    "# read in data using pandas\n",
    "df = pd.read_csv('../data/data_cleaned.csv')"
   ]
  },
  {
   "cell_type": "code",
   "execution_count": 4,
   "metadata": {},
   "outputs": [],
   "source": [
    "# Joining all documents in corpus into a single document.\n",
    "lyrics = '\\n'.join([i for i in df['lyrics']])"
   ]
  },
  {
   "cell_type": "code",
   "execution_count": 5,
   "metadata": {},
   "outputs": [
    {
     "data": {
      "text/plain": [
       "133"
      ]
     },
     "execution_count": 5,
     "metadata": {},
     "output_type": "execute_result"
    }
   ],
   "source": [
    "# all unique characters\n",
    "vocab = sorted(set(lyrics))\n",
    "len(vocab)"
   ]
  },
  {
   "cell_type": "markdown",
   "metadata": {},
   "source": [
    "#### StringLookup from Tensorflow's library creates a library of unique characters."
   ]
  },
  {
   "cell_type": "code",
   "execution_count": 6,
   "metadata": {},
   "outputs": [],
   "source": [
    "# creating a dictionary of unique characters\n",
    "ids_from_chars = preprocessing.StringLookup(\n",
    "    vocabulary=list(vocab))"
   ]
  },
  {
   "cell_type": "code",
   "execution_count": 7,
   "metadata": {},
   "outputs": [
    {
     "data": {
      "text/plain": [
       "<tensorflow.python.keras.layers.preprocessing.string_lookup.StringLookup at 0x7f9ad5b5ab20>"
      ]
     },
     "execution_count": 7,
     "metadata": {},
     "output_type": "execute_result"
    }
   ],
   "source": [
    "ids_from_chars"
   ]
  },
  {
   "cell_type": "markdown",
   "metadata": {},
   "source": [
    "#### The reverse of string look up, get_vocabulary() gets unique character associated with the ID and reverses the above function."
   ]
  },
  {
   "cell_type": "code",
   "execution_count": 8,
   "metadata": {},
   "outputs": [],
   "source": [
    "# reverse lookup of unique characters from ID's\n",
    "chars_from_ids = preprocessing.StringLookup(\n",
    "    vocabulary=ids_from_chars.get_vocabulary(), invert=True)"
   ]
  },
  {
   "cell_type": "code",
   "execution_count": 9,
   "metadata": {},
   "outputs": [
    {
     "data": {
      "text/plain": [
       "<tensorflow.python.keras.layers.preprocessing.string_lookup.StringLookup at 0x7f9aecd83070>"
      ]
     },
     "execution_count": 9,
     "metadata": {},
     "output_type": "execute_result"
    }
   ],
   "source": [
    "chars_from_ids"
   ]
  },
  {
   "cell_type": "markdown",
   "metadata": {},
   "source": [
    "#### Piece by piece what is happening under the hood."
   ]
  },
  {
   "cell_type": "code",
   "execution_count": 10,
   "metadata": {},
   "outputs": [
    {
     "name": "stdout",
     "output_type": "stream",
     "text": [
      "<tf.RaggedTensor [[b'h', b'o', b'l', b'a'], [b'p', b'a', b'p', b'i']]>\n",
      "<tf.RaggedTensor [[70, 77, 74, 63], [78, 63, 78, 71]]>\n"
     ]
    }
   ],
   "source": [
    "# Example\n",
    "example = ['hola', 'papi']\n",
    "example = tf.strings.unicode_split(example, input_encoding='UTF-8') # splits string into list via tf library \n",
    "print(example)\n",
    "example = ids_from_chars(example)\n",
    "print(example)"
   ]
  },
  {
   "cell_type": "code",
   "execution_count": 11,
   "metadata": {},
   "outputs": [
    {
     "name": "stdout",
     "output_type": "stream",
     "text": [
      "<tf.RaggedTensor [[b'h', b'o', b'l', b'a'], [b'p', b'a', b'p', b'i']]>\n"
     ]
    }
   ],
   "source": [
    "example = chars_from_ids(example)\n",
    "print(example)"
   ]
  },
  {
   "cell_type": "markdown",
   "metadata": {},
   "source": [
    "#### Reduce_join() is a str function in the tensorflow library. Joins the list of strings together."
   ]
  },
  {
   "cell_type": "code",
   "execution_count": 12,
   "metadata": {},
   "outputs": [
    {
     "name": "stdout",
     "output_type": "stream",
     "text": [
      "tf.Tensor([b'hola' b'papi'], shape=(2,), dtype=string)\n"
     ]
    }
   ],
   "source": [
    "example = tf.strings.reduce_join(example, axis=-1) # joins strings back\n",
    "print(example)"
   ]
  },
  {
   "cell_type": "code",
   "execution_count": 13,
   "metadata": {},
   "outputs": [],
   "source": [
    "def textFromIds(ids):\n",
    "    return tf.strings.reduce_join(chars_from_ids(ids), axis=-1)"
   ]
  },
  {
   "cell_type": "code",
   "execution_count": 14,
   "metadata": {},
   "outputs": [],
   "source": [
    "# Preparing dataset for modeling.\n",
    "idsFromLyrics = tf.strings.unicode_split(lyrics, input_encoding='UTF-8')\n",
    "idsFromLyrics = ids_from_chars(idsFromLyrics)"
   ]
  },
  {
   "cell_type": "markdown",
   "metadata": {},
   "source": [
    "#### Joining the input data sequentially into a data frame in tensor slices"
   ]
  },
  {
   "cell_type": "code",
   "execution_count": 15,
   "metadata": {},
   "outputs": [],
   "source": [
    "# Appending to tf.data.Dataset via tf.data.Dataset.from_tensor_slices which creates a sequential dataset. \n",
    "data = tf.data.Dataset.from_tensor_slices(idsFromLyrics)"
   ]
  },
  {
   "cell_type": "code",
   "execution_count": 16,
   "metadata": {},
   "outputs": [
    {
     "name": "stdout",
     "output_type": "stream",
     "text": [
      "H\n",
      "e\n",
      "r\n",
      " \n",
      "d\n",
      "a\n",
      "y\n"
     ]
    }
   ],
   "source": [
    "# Snippet from the dataset.\n",
    "for i in data.take(7):\n",
    "    print(chars_from_ids(i).numpy().decode('UTF-8'))"
   ]
  },
  {
   "cell_type": "markdown",
   "metadata": {},
   "source": [
    "#### .batch() breaks the dataset into batches in sequences of 80 characters. "
   ]
  },
  {
   "cell_type": "code",
   "execution_count": 17,
   "metadata": {},
   "outputs": [],
   "source": [
    "# Batch lets you split the dataset into desired lengths.\n",
    "seq_length = 80\n",
    "data = data.batch(seq_length+1, drop_remainder=True) #drop_remainder drops the last batch"
   ]
  },
  {
   "cell_type": "code",
   "execution_count": 18,
   "metadata": {},
   "outputs": [
    {
     "name": "stdout",
     "output_type": "stream",
     "text": [
      "b'Her day starts with a coffee and ends with a wine\\nTakes forever getting ready so '\n",
      "b'she\\'s never on time for anything\\nWhen she gets that \"come get me\" look in her eye'\n"
     ]
    }
   ],
   "source": [
    "# Snippet from revamped dataset.\n",
    "for i in data.take(2):\n",
    "    print(textFromIds(i).numpy())"
   ]
  },
  {
   "cell_type": "markdown",
   "metadata": {},
   "source": [
    "#### In order for our model to be able to predict, it needs something to predict. In our case, we'll have our model train everything but the last character, and predict on everything else in the sequence but the first character!"
   ]
  },
  {
   "cell_type": "code",
   "execution_count": 19,
   "metadata": {},
   "outputs": [],
   "source": [
    "# Splitting Target value and Input values.\n",
    "def split_data(seq):\n",
    "    inputText = seq[:-1]\n",
    "    targetText = seq[1:]\n",
    "    return inputText, targetText"
   ]
  },
  {
   "cell_type": "code",
   "execution_count": 20,
   "metadata": {},
   "outputs": [],
   "source": [
    "# Map it over the dataset.\n",
    "data = data.map(split_data)"
   ]
  },
  {
   "cell_type": "code",
   "execution_count": 21,
   "metadata": {},
   "outputs": [
    {
     "name": "stdout",
     "output_type": "stream",
     "text": [
      "('Sequence', 'equences')\n"
     ]
    }
   ],
   "source": [
    "# Example\n",
    "print(split_data('Sequences'))"
   ]
  },
  {
   "cell_type": "code",
   "execution_count": 22,
   "metadata": {},
   "outputs": [
    {
     "name": "stdout",
     "output_type": "stream",
     "text": [
      "Target:  b'er day starts with a coffee and ends with a wine\\nTakes forever getting ready so '\n",
      "Input:  b'Her day starts with a coffee and ends with a wine\\nTakes forever getting ready so'\n"
     ]
    }
   ],
   "source": [
    "# Snippet\n",
    "for input_, target_ in data.take(1):\n",
    "    print(f'Target: ', textFromIds(target_).numpy())\n",
    "    print(f'Input: ', textFromIds(input_).numpy())"
   ]
  },
  {
   "cell_type": "markdown",
   "metadata": {},
   "source": [
    "#### The input and target data live in the same variable, they're stuck together in pairs. We'll shuffle, rebatch, and add a .prefetch. .prefetch() allows for optimal training time. While one batch is training, the next batched is prepped and ready to train as soon as the training batch is done."
   ]
  },
  {
   "cell_type": "code",
   "execution_count": 24,
   "metadata": {},
   "outputs": [],
   "source": [
    "# Shuffling and packing the data into batches\n",
    "batch_size = 64\n",
    "buffer_size = 10_000 # Instead of trying to shuffle all the data in memory\n",
    "                    # Adding a buffer_size keeps the TF data from shuffling all the sequences in memory\n",
    "data = (data.shuffle(buffer_size).batch(batch_size).prefetch(tf.data.experimental.AUTOTUNE))\n",
    "                                                    # Prefetch fetches your next piece of input data and preps it before what's\n",
    "                                                    # training is done."
   ]
  },
  {
   "cell_type": "markdown",
   "metadata": {},
   "source": [
    "#### Building our models via subclassing.\n",
    "\n",
    "##### We'll build 2 models, compile models and pin them against eachother to see which have better signs of performance."
   ]
  },
  {
   "cell_type": "code",
   "execution_count": 25,
   "metadata": {},
   "outputs": [],
   "source": [
    "class rnn_model(keras.Model):\n",
    "    def __init__(self, vocab_size, rnn_units, embedding_dim):\n",
    "        super().__init__(self)\n",
    "        self.embedding = keras.layers.Embedding(vocab_size, embedding_dim) # Embedding layer adds significance to indexes of text.\n",
    "        self.lstm = keras.layers.LSTM(rnn_units, return_sequences=True, return_state=True) # RNN layer\n",
    "        self.out = keras.layers.Dense(vocab_size) # output layer\n",
    "\n",
    "    def call(self, inputs, states=None, training=False, return_state=False):\n",
    "        x = inputs\n",
    "        x = self.embedding(x, training=training)\n",
    "        if states is None: # initializing a state\n",
    "            states = self.lstm.get_initial_state(x)\n",
    "        x, states_h, states_c = self.lstm(x, initial_state=states, training=training) # making sure all 3 outputs are accounted for\n",
    "        x = self.out(x, training=training)\n",
    "        if return_state:\n",
    "            return x, states # return states\n",
    "        else:\n",
    "            return x # else return model"
   ]
  },
  {
   "cell_type": "code",
   "execution_count": 26,
   "metadata": {},
   "outputs": [],
   "source": [
    "# Directory where the checkpoints will be saved\n",
    "checkpoint_dir = '../training_checkpoints'\n",
    "# Name of the checkpoint files\n",
    "checkpoint_prefix = os.path.join(checkpoint_dir, \"ckpt_{epoch}\")\n",
    "\n",
    "checkpoint_callback = tf.keras.callbacks.ModelCheckpoint(\n",
    "    filepath=checkpoint_prefix,\n",
    "    save_weights_only=True)"
   ]
  },
  {
   "cell_type": "code",
   "execution_count": 27,
   "metadata": {},
   "outputs": [],
   "source": [
    "#Build model 2 using subclassing\n",
    "class rnn_model1(tf.keras.Model):\n",
    "    def __init__(self, vocab_size, rnn_units, embedding_dim):\n",
    "        super().__init__(self)\n",
    "        self.embedding = tf.keras.layers.Embedding(vocab_size, embedding_dim)\n",
    "        self.gru = tf.keras.layers.GRU(rnn_units, return_sequences=True, return_state=True)\n",
    "        self.out = tf.keras.layers.Dense(vocab_size)\n",
    "        \n",
    "    def call(self, inputs, states=None, training=False, return_state=False):\n",
    "        x = inputs\n",
    "        x = self.embedding(x, training=training)\n",
    "        if states is None:\n",
    "            states = self.gru.get_initial_state(x)\n",
    "        x, states = self.gru(x, initial_state=states, training=training)\n",
    "        x = self.out(x,training=training)\n",
    "        \n",
    "        if return_state:\n",
    "            return x, states\n",
    "        else:\n",
    "            return x"
   ]
  },
  {
   "cell_type": "code",
   "execution_count": 27,
   "metadata": {},
   "outputs": [],
   "source": [
    "# Directory where the checkpoints will be saved\n",
    "checkpoint_dir = '../training_checkpoints1'\n",
    "# Name of the checkpoint files\n",
    "checkpoint_prefix1 = os.path.join(checkpoint_dir, \"ckpt_{epoch}\")\n",
    "\n",
    "checkpoint_callback1 = tf.keras.callbacks.ModelCheckpoint(\n",
    "    filepath=checkpoint_prefix1,\n",
    "    save_weights_only=True)"
   ]
  },
  {
   "cell_type": "code",
   "execution_count": 31,
   "metadata": {},
   "outputs": [],
   "source": [
    "# Initialize the Model\n",
    "model = rnn_model(len(\n",
    "    ids_from_chars.get_vocabulary()),\n",
    "                  rnn_units=1024,\n",
    "                  embedding_dim=256)"
   ]
  },
  {
   "cell_type": "code",
   "execution_count": 32,
   "metadata": {},
   "outputs": [],
   "source": [
    "# try another model\n",
    "model1 = rnn_model1(len(\n",
    "    ids_from_chars.get_vocabulary()),\n",
    "                  rnn_units=1024,\n",
    "                  embedding_dim=256)"
   ]
  },
  {
   "cell_type": "code",
   "execution_count": 33,
   "metadata": {},
   "outputs": [],
   "source": [
    "# compile models\n",
    "model.compile(loss=keras.losses.SparseCategoricalCrossentropy(from_logits=True), #works great with datasets with a lot of 0's\n",
    "             optimizer= keras.optimizers.Adam(learning_rate=.0005))"
   ]
  },
  {
   "cell_type": "code",
   "execution_count": 34,
   "metadata": {},
   "outputs": [],
   "source": [
    "model1.compile(loss=keras.losses.SparseCategoricalCrossentropy(from_logits=True),\n",
    "             optimizer= keras.optimizers.Adam(learning_rate=.0005))"
   ]
  },
  {
   "cell_type": "code",
   "execution_count": 32,
   "metadata": {
    "scrolled": true
   },
   "outputs": [
    {
     "name": "stdout",
     "output_type": "stream",
     "text": [
      "Epoch 1/5\n",
      "1391/1391 [==============================] - 1811s 1s/step - loss: 2.3631\n",
      "Epoch 2/5\n",
      "1391/1391 [==============================] - 1820s 1s/step - loss: 1.4453\n",
      "Epoch 3/5\n",
      "1391/1391 [==============================] - 1760s 1s/step - loss: 1.2924\n",
      "Epoch 4/5\n",
      "1391/1391 [==============================] - 1717s 1s/step - loss: 1.2211\n",
      "Epoch 5/5\n",
      "1391/1391 [==============================] - 1735s 1s/step - loss: 1.1738\n"
     ]
    }
   ],
   "source": [
    "#Fit your subclassed model\n",
    "history = model.fit(data, epochs=5, callbacks=[checkpoint_callback])"
   ]
  },
  {
   "cell_type": "code",
   "execution_count": 33,
   "metadata": {},
   "outputs": [
    {
     "name": "stdout",
     "output_type": "stream",
     "text": [
      "Model: \"rnn_model\"\n",
      "_________________________________________________________________\n",
      "Layer (type)                 Output Shape              Param #   \n",
      "=================================================================\n",
      "embedding (Embedding)        multiple                  34560     \n",
      "_________________________________________________________________\n",
      "lstm (LSTM)                  multiple                  5246976   \n",
      "_________________________________________________________________\n",
      "dense (Dense)                multiple                  138375    \n",
      "=================================================================\n",
      "Total params: 5,419,911\n",
      "Trainable params: 5,419,911\n",
      "Non-trainable params: 0\n",
      "_________________________________________________________________\n"
     ]
    }
   ],
   "source": [
    "model.summary()"
   ]
  },
  {
   "cell_type": "code",
   "execution_count": 34,
   "metadata": {
    "scrolled": true
   },
   "outputs": [
    {
     "name": "stdout",
     "output_type": "stream",
     "text": [
      "Epoch 1/5\n",
      "1391/1391 [==============================] - 1420s 1s/step - loss: 2.3697\n",
      "Epoch 2/5\n",
      "1391/1391 [==============================] - 1427s 1s/step - loss: 1.3316\n",
      "Epoch 3/5\n",
      "1391/1391 [==============================] - 1392s 1000ms/step - loss: 1.2062\n",
      "Epoch 4/5\n",
      "1391/1391 [==============================] - 1301s 935ms/step - loss: 1.1409\n",
      "Epoch 5/5\n",
      "1391/1391 [==============================] - 1348s 968ms/step - loss: 1.0924\n"
     ]
    }
   ],
   "source": [
    "#Fit your subclassed model\n",
    "history1 = model1.fit(data, epochs=5, callbacks=[checkpoint_callback1])"
   ]
  },
  {
   "cell_type": "code",
   "execution_count": 35,
   "metadata": {},
   "outputs": [
    {
     "name": "stdout",
     "output_type": "stream",
     "text": [
      "Model: \"rnn_model1\"\n",
      "_________________________________________________________________\n",
      "Layer (type)                 Output Shape              Param #   \n",
      "=================================================================\n",
      "embedding_1 (Embedding)      multiple                  34560     \n",
      "_________________________________________________________________\n",
      "gru (GRU)                    multiple                  3938304   \n",
      "_________________________________________________________________\n",
      "dense_1 (Dense)              multiple                  138375    \n",
      "=================================================================\n",
      "Total params: 4,111,239\n",
      "Trainable params: 4,111,239\n",
      "Non-trainable params: 0\n",
      "_________________________________________________________________\n"
     ]
    }
   ],
   "source": [
    "model1.summary()"
   ]
  },
  {
   "cell_type": "markdown",
   "metadata": {},
   "source": [
    "#### Without a validation test set, the loss is almost arbitrary, but the GRU model is performing constistently better at early epochs. Time to fully train one of the models."
   ]
  },
  {
   "cell_type": "code",
   "execution_count": 43,
   "metadata": {},
   "outputs": [
    {
     "data": {
      "image/png": "[encoded data removed]",
      "text/plain": [
       "<Figure size 864x576 with 1 Axes>"
      ]
     },
     "metadata": {},
     "output_type": "display_data"
    }
   ],
   "source": [
    "# plot model performance\n",
    "model_loss = history.history['loss']\n",
    "model1_loss = history1.history['loss']\n",
    "plt.figure(figsize=(12, 8))\n",
    "plt.plot(model_loss, label='LSTM Model loss')\n",
    "plt.plot(model1_loss, label='GRU Model loss')\n",
    "plt.legend();"
   ]
  },
  {
   "cell_type": "code",
   "execution_count": 37,
   "metadata": {},
   "outputs": [],
   "source": [
    "# Directory where the checkpoints will be saved\n",
    "checkpoint_dir = '../training_checkpoints2'\n",
    "# Name of the checkpoint files\n",
    "checkpoint_prefix2 = os.path.join(checkpoint_dir, \"ckpt_{epoch}\")\n",
    "\n",
    "checkpoint_callback2 = tf.keras.callbacks.ModelCheckpoint(\n",
    "    filepath=checkpoint_prefix2,\n",
    "    save_weights_only=True)"
   ]
  },
  {
   "cell_type": "code",
   "execution_count": 38,
   "metadata": {
    "scrolled": true
   },
   "outputs": [
    {
     "name": "stdout",
     "output_type": "stream",
     "text": [
      "Epoch 1/25\n",
      "1391/1391 [==============================] - 1361s 978ms/step - loss: 1.0582\n",
      "Epoch 2/25\n",
      "1391/1391 [==============================] - 1365s 981ms/step - loss: 1.0221\n",
      "Epoch 3/25\n",
      "1391/1391 [==============================] - 1393s 1s/step - loss: 0.9896\n",
      "Epoch 4/25\n",
      "1391/1391 [==============================] - 1398s 1s/step - loss: 0.9605\n",
      "Epoch 5/25\n",
      "1391/1391 [==============================] - 1422s 1s/step - loss: 0.9344\n",
      "Epoch 6/25\n",
      "1391/1391 [==============================] - 1376s 988ms/step - loss: 0.9118\n",
      "Epoch 7/25\n",
      "1391/1391 [==============================] - 1314s 944ms/step - loss: 0.8918\n",
      "Epoch 8/25\n",
      "1391/1391 [==============================] - 1315s 944ms/step - loss: 0.8750\n",
      "Epoch 9/25\n",
      "1391/1391 [==============================] - 1312s 942ms/step - loss: 0.8605\n",
      "Epoch 10/25\n",
      "1391/1391 [==============================] - 1317s 947ms/step - loss: 0.8484\n",
      "Epoch 11/25\n",
      "1391/1391 [==============================] - 1466s 1s/step - loss: 0.8384\n",
      "Epoch 12/25\n",
      "1391/1391 [==============================] - 1955s 1s/step - loss: 0.8299\n",
      "Epoch 13/25\n",
      "1391/1391 [==============================] - 2064s 1s/step - loss: 0.8228\n",
      "Epoch 14/25\n",
      "1391/1391 [==============================] - 2057s 1s/step - loss: 0.8169\n",
      "Epoch 15/25\n",
      "1391/1391 [==============================] - 2075s 1s/step - loss: 0.8120\n",
      "Epoch 16/25\n",
      "1391/1391 [==============================] - 2069s 1s/step - loss: 0.8080\n",
      "Epoch 17/25\n",
      "1391/1391 [==============================] - 2068s 1s/step - loss: 0.8041\n",
      "Epoch 18/25\n",
      "1391/1391 [==============================] - 2075s 1s/step - loss: 0.8017\n",
      "Epoch 19/25\n",
      "1391/1391 [==============================] - 2071s 1s/step - loss: 0.7990\n",
      "Epoch 20/25\n",
      "1391/1391 [==============================] - 2071s 1s/step - loss: 0.7975\n",
      "Epoch 21/25\n",
      "1391/1391 [==============================] - 2077s 1s/step - loss: 0.7954\n",
      "Epoch 22/25\n",
      "1391/1391 [==============================] - 2064s 1s/step - loss: 0.7944\n",
      "Epoch 23/25\n",
      "1391/1391 [==============================] - 1923s 1s/step - loss: 0.7931\n",
      "Epoch 24/25\n",
      "1391/1391 [==============================] - 1372s 986ms/step - loss: 0.7919\n",
      "Epoch 25/25\n",
      "1391/1391 [==============================] - 1393s 1s/step - loss: 0.7911\n"
     ]
    }
   ],
   "source": [
    "history2 = model1.fit(data, epochs=25, callbacks=[checkpoint_callback2])"
   ]
  },
  {
   "cell_type": "code",
   "execution_count": 39,
   "metadata": {},
   "outputs": [
    {
     "name": "stdout",
     "output_type": "stream",
     "text": [
      "INFO:tensorflow:Assets written to: ./models/model/assets\n"
     ]
    }
   ],
   "source": [
    "model1.save('../models/model')"
   ]
  },
  {
   "cell_type": "code",
   "execution_count": 42,
   "metadata": {},
   "outputs": [
    {
     "data": {
      "image/png": "[encoded data removed]",
      "text/plain": [
       "<Figure size 864x576 with 1 Axes>"
      ]
     },
     "metadata": {},
     "output_type": "display_data"
    }
   ],
   "source": [
    "# plot model performance\n",
    "model_loss = history.history['loss']\n",
    "model1_loss = history1.history['loss']\n",
    "model1_cont = history2.history['loss']\n",
    "plt.figure(figsize=(12, 8))\n",
    "plt.plot(model_loss, label='LSTM Model Loss')\n",
    "plt.plot(model1_loss, label='GRU Model Loss', color='white')\n",
    "plt.plot(model1_cont, label='GRU Model Cont. Loss', color='white')\n",
    "plt.legend();"
   ]
  },
  {
   "cell_type": "markdown",
   "metadata": {},
   "source": [
    "#### Extracting predictions from Model!"
   ]
  },
  {
   "cell_type": "code",
   "execution_count": 28,
   "metadata": {},
   "outputs": [],
   "source": [
    "# from Tensorflow\n",
    "class OneStep(tf.keras.Model):\n",
    "  def __init__(self, model, chars_from_ids, ids_from_chars, temperature=1.0):\n",
    "    super().__init__()\n",
    "    self.temperature=temperature\n",
    "    self.model = model\n",
    "    self.chars_from_ids = chars_from_ids\n",
    "    self.ids_from_chars = ids_from_chars\n",
    "\n",
    "    # Create a mask to prevent \"\" or \"[UNK]\" from being generated.\n",
    "    skip_ids = self.ids_from_chars(['','[UNK]'])[:, None]\n",
    "    sparse_mask = tf.SparseTensor(\n",
    "        # Put a -inf at each bad index.\n",
    "        values=[-float('inf')]*len(skip_ids),\n",
    "        indices = skip_ids,\n",
    "        # Match the shape to the vocabulary\n",
    "        dense_shape=[len(ids_from_chars.get_vocabulary())]) \n",
    "    self.prediction_mask = tf.sparse.to_dense(sparse_mask)\n",
    "\n",
    "  @tf.function\n",
    "  def generate_one_step(self, inputs, states=None):\n",
    "    # Convert strings to token IDs.\n",
    "    input_chars = tf.strings.unicode_split(inputs, 'UTF-8')\n",
    "    input_ids = self.ids_from_chars(input_chars).to_tensor()\n",
    "\n",
    "    # Run the model.\n",
    "    # predicted_logits.shape is [batch, char, next_char_logits] \n",
    "    predicted_logits, states =  self.model(inputs=input_ids, states=states, \n",
    "                                          return_state=True)\n",
    "    # Only use the last prediction.\n",
    "    predicted_logits = predicted_logits[:, -1, :]\n",
    "    predicted_logits = predicted_logits/self.temperature\n",
    "    # Apply the prediction mask: prevent \"\" or \"[UNK]\" from being generated.\n",
    "    predicted_logits = predicted_logits + self.prediction_mask\n",
    "\n",
    "    # Sample the output logits to generate token IDs.\n",
    "    predicted_ids = tf.random.categorical(predicted_logits, num_samples=1)\n",
    "    predicted_ids = tf.squeeze(predicted_ids, axis=-1)\n",
    "\n",
    "    # Convert from token ids to characters\n",
    "    predicted_chars = self.chars_from_ids(predicted_ids)\n",
    "\n",
    "    # Return the characters and model state.\n",
    "    return predicted_chars, states"
   ]
  },
  {
   "cell_type": "code",
   "execution_count": null,
   "metadata": {},
   "outputs": [],
   "source": [
    "one_step_model = OneStep(model1, chars_from_ids, ids_from_chars)"
   ]
  },
  {
   "cell_type": "code",
   "execution_count": null,
   "metadata": {},
   "outputs": [],
   "source": [
    "# from Tensorflow\n",
    "start = time.time()\n",
    "states = None\n",
    "next_char = tf.constant(['Boots '])\n",
    "result = [next_char]\n",
    "\n",
    "for n in range(120):\n",
    "  next_char, states = one_step_model.generate_one_step(next_char, states=states)\n",
    "  result.append(next_char)\n",
    "\n",
    "result = tf.strings.join(result)\n",
    "end = time.time()\n",
    "\n",
    "print(result[0].numpy().decode('utf-8'), '\\n\\n' + '_'*80)\n",
    "\n",
    "print(f\"\\nRun time: {end - start}\")"
   ]
  },
  {
   "cell_type": "code",
   "execution_count": null,
   "metadata": {},
   "outputs": [],
   "source": []
  }
 ],
 "metadata": {
  "kernelspec": {
   "display_name": "Python 3",
   "language": "python",
   "name": "python3"
  },
  "language_info": {
   "codemirror_mode": {
    "name": "ipython",
    "version": 3
   },
   "file_extension": ".py",
   "mimetype": "text/x-python",
   "name": "python",
   "nbconvert_exporter": "python",
   "pygments_lexer": "ipython3",
   "version": "3.8.5"
  }
 },
 "nbformat": 4,
 "nbformat_minor": 4
}
